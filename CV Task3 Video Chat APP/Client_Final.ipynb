{
 "cells": [
  {
   "cell_type": "code",
   "execution_count": null,
   "metadata": {},
   "outputs": [],
   "source": [
    "import socket\n",
    "import sys\n",
    "import cv2\n",
    "import pickle\n",
    "import numpy as np\n",
    "import struct ## new\n",
    "import zlib\n",
    "import io\n",
    "import time\n",
    "import threading\n",
    "\n",
    "\n",
    "\n"
   ]
  },
  {
   "cell_type": "code",
   "execution_count": null,
   "metadata": {},
   "outputs": [],
   "source": [
    "def send(s,serverip):\n",
    "    connection = s.makefile('wb')\n",
    "    cam = cv2.VideoCapture(0)\n",
    "\n",
    "    cam.set(3, 320);\n",
    "    cam.set(4, 240);\n",
    "\n",
    "    img_counter = 0\n",
    "\n",
    "\n",
    "    encode_param = [int(cv2.IMWRITE_JPEG_QUALITY), 90]\n",
    "\n",
    "    while True:\n",
    "        ret, frame = cam.read()\n",
    "        result, frame = cv2.imencode('.jpg', frame, encode_param)\n",
    "        #    data = zlib.compress(pickle.dumps(frame, 0))\n",
    "        data = pickle.dumps(frame, 0)\n",
    "        size = len(data)\n",
    "\n",
    "\n",
    "        print(\"{}: {}\".format(img_counter, size))\n",
    "        s.sendall(struct.pack(\">L\", size) + data)\n",
    "        img_counter += 1\n",
    "\n",
    "    cam.release()"
   ]
  },
  {
   "cell_type": "code",
   "execution_count": null,
   "metadata": {},
   "outputs": [],
   "source": [
    "def receive(s,serverip):\n",
    "    data = b\"\"\n",
    "    payload_size = struct.calcsize(\">L\")\n",
    "    print(\"payload_size: {}\".format(payload_size))\n",
    "    while True:\n",
    "        while len(data) < payload_size:\n",
    "            print(\"Recv: {}\".format(len(data)))\n",
    "            data += s.recv(4096)\n",
    "\n",
    "        print(\"Done Recv: {}\".format(len(data)))\n",
    "        packed_msg_size = data[:payload_size]\n",
    "        data = data[payload_size:]\n",
    "        msg_size = struct.unpack(\">L\", packed_msg_size)[0]\n",
    "        print(\"msg_size: {}\".format(msg_size))\n",
    "        while len(data) < msg_size:\n",
    "            data += s.recv(4096)\n",
    "        frame_data = data[:msg_size]\n",
    "        data = data[msg_size:]\n",
    "\n",
    "        frame=pickle.loads(frame_data, fix_imports=True, encoding=\"bytes\")\n",
    "        frame = cv2.imdecode(frame, cv2.IMREAD_COLOR)\n",
    "        cv2.imshow('ImageWindow',frame)\n",
    "        cv2.waitKey(1)"
   ]
  },
  {
   "cell_type": "code",
   "execution_count": null,
   "metadata": {},
   "outputs": [],
   "source": [
    "import socket\n",
    "s=socket.socket()\n",
    "serverip=\"192.168.137.1\"\n",
    "serverport=2222\n",
    "s.connect((serverip,serverport))\n",
    "t1=threading.Thread(target=receive,args=(s,serverip))\n",
    "t2=threading.Thread(target=send,args=(s,serverip))\n",
    "t2.start()\n",
    "t1.start()"
   ]
  },
  {
   "cell_type": "code",
   "execution_count": null,
   "metadata": {},
   "outputs": [],
   "source": []
  },
  {
   "cell_type": "code",
   "execution_count": null,
   "metadata": {},
   "outputs": [],
   "source": []
  }
 ],
 "metadata": {
  "kernelspec": {
   "display_name": "Python 3",
   "language": "python",
   "name": "python3"
  },
  "language_info": {
   "codemirror_mode": {
    "name": "ipython",
    "version": 3
   },
   "file_extension": ".py",
   "mimetype": "text/x-python",
   "name": "python",
   "nbconvert_exporter": "python",
   "pygments_lexer": "ipython3",
   "version": "3.8.3"
  }
 },
 "nbformat": 4,
 "nbformat_minor": 5
}
